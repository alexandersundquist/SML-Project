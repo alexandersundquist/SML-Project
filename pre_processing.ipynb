{
 "cells": [
  {
   "cell_type": "code",
   "execution_count": null,
   "metadata": {},
   "outputs": [],
   "source": [
    "# Import packages\n",
    "import pandas as pd\n",
    "import numpy as np"
   ]
  },
  {
   "cell_type": "code",
   "execution_count": 22,
   "metadata": {},
   "outputs": [],
   "source": [
    "# Import data\n",
    "data = pd.read_csv('training_data_vt2025.csv')"
   ]
  },
  {
   "cell_type": "code",
   "execution_count": 23,
   "metadata": {},
   "outputs": [],
   "source": [
    "def cyclical_encoding(df, column, period):\n",
    "    df[column + '_sin'] = np.round(np.sin(2 * np.pi * df[column] / period), 6)\n",
    "    df[column + '_cos'] = np.round(np.cos(2 * np.pi * df[column] / period), 6)\n",
    "    df.drop(columns=[column], inplace=True)  # Remove the original column\n",
    "    return df"
   ]
  },
  {
   "cell_type": "code",
   "execution_count": null,
   "metadata": {},
   "outputs": [],
   "source": [
    "def pre_processing(data):\n",
    "    # Make copy of dataset\n",
    "    data_processed = data.copy()\n",
    "\n",
    "    # Create new summertime feature\n",
    "    data_processed['is_summer'] = ((data_processed['month'] >= 3) & (data_processed['month'] <= 11)).astype(int)\n",
    "\n",
    "    # Normalize calendar data using cosine encoding\n",
    "    data_processed = cyclical_encoding(data_processed, 'day_of_week', 7)\n",
    "    data_processed = cyclical_encoding(data_processed, 'hour_of_day', 24)\n",
    "    data_processed = cyclical_encoding(data_processed, 'month', 12) \n",
    "\n",
    "    # Give target feature numerical values\n",
    "    data_processed['increase_stock'] = data_processed['increase_stock'].replace({'high_bike_demand': 1, 'low_bike_demand': 0})\n",
    "\n",
    "    # Create binary category of features\n",
    "    data_processed['is_raining'] = (data_processed['precip'] != 0).astype(int)\n",
    "    data_processed['is_snowing'] = (data_processed['snowdepth'] != 0).astype(int)\n",
    "    data_processed['is_visible'] = (data_processed['visibility'] != 16).astype(int)\n",
    "\n",
    "    # Drop columns\n",
    "    data_processed = data_processed.drop(columns=['holiday', 'snow', 'snowdepth', 'precip', 'visibility', 'summertime'])\n",
    "\n",
    "    return data_processed"
   ]
  },
  {
   "cell_type": "code",
   "execution_count": null,
   "metadata": {},
   "outputs": [
    {
     "name": "stderr",
     "output_type": "stream",
     "text": [
      "C:\\Users\\alexs\\AppData\\Local\\Temp\\ipykernel_21328\\3836832528.py:14: FutureWarning: Downcasting behavior in `replace` is deprecated and will be removed in a future version. To retain the old behavior, explicitly call `result.infer_objects(copy=False)`. To opt-in to the future behavior, set `pd.set_option('future.no_silent_downcasting', True)`\n",
      "  data_processed['increase_stock'] = data_processed['increase_stock'].replace({'high_bike_demand': 1, 'low_bike_demand': 0})\n",
      "C:\\Users\\alexs\\AppData\\Local\\Temp\\ipykernel_21328\\3395624147.py:14: FutureWarning: Downcasting behavior in `replace` is deprecated and will be removed in a future version. To retain the old behavior, explicitly call `result.infer_objects(copy=False)`. To opt-in to the future behavior, set `pd.set_option('future.no_silent_downcasting', True)`\n",
      "  data_processed['increase_stock'] = data_processed['increase_stock'].replace({'high_bike_demand': 1, 'low_bike_demand': 0})\n"
     ]
    }
   ],
   "source": [
    "new_data= pre_processing(data)"
   ]
  },
  {
   "cell_type": "code",
   "execution_count": null,
   "metadata": {},
   "outputs": [
    {
     "name": "stdout",
     "output_type": "stream",
     "text": [
      "Preprocessing complete. File saved as preprocessed_data_1.csv\n"
     ]
    }
   ],
   "source": [
    "# Save the processed data\n",
    "new_data.to_csv(\"preprocessed_data_1.csv\", index=False)\n",
    "\n",
    "print(\"Preprocessing complete. File saved as preprocessed_data_1.csv\")"
   ]
  }
 ],
 "metadata": {
  "kernelspec": {
   "display_name": "base",
   "language": "python",
   "name": "python3"
  },
  "language_info": {
   "codemirror_mode": {
    "name": "ipython",
    "version": 3
   },
   "file_extension": ".py",
   "mimetype": "text/x-python",
   "name": "python",
   "nbconvert_exporter": "python",
   "pygments_lexer": "ipython3",
   "version": "3.12.4"
  }
 },
 "nbformat": 4,
 "nbformat_minor": 2
}
