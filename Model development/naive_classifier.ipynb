{
 "cells": [
  {
   "cell_type": "code",
   "execution_count": null,
   "metadata": {},
   "outputs": [],
   "source": [
    "import pandas as pd\n",
    "from sklearn.dummy import DummyClassifier\n",
    "from pathlib import Path\n",
    "from sklearn.metrics import accuracy_score, f1_score, roc_auc_score\n",
    "from sklearn.model_selection import train_test_split"
   ]
  },
  {
   "cell_type": "code",
   "execution_count": null,
   "metadata": {},
   "outputs": [],
   "source": [
    "# Read the preprocessed data\n",
    "\n",
    "# Construct the full path to the CSV file\n",
    "csv_file_path_pre_processed = Path.cwd().parent / 'preprocessed_data_1.csv'\n",
    "\n",
    "# Read the CSV file using pandas\n",
    "data = pd.read_csv(csv_file_path_pre_processed)"
   ]
  },
  {
   "cell_type": "code",
   "execution_count": 26,
   "metadata": {},
   "outputs": [],
   "source": [
    "# Split the data into input values, X, and output value, y\n",
    "X = data.drop(columns=['increase_stock'])\n",
    "y = data['increase_stock']\n",
    "\n",
    "# Split Data into Train & Test Sets (80% Train, 20% Test)\n",
    "X_train, X_test, y_train, y_test = train_test_split(X, y, test_size=0.2, stratify=y, random_state=42)"
   ]
  },
  {
   "cell_type": "code",
   "execution_count": 27,
   "metadata": {},
   "outputs": [
    {
     "name": "stdout",
     "output_type": "stream",
     "text": [
      "Dummy Classifier Performance (Majority Class Strategy):\n",
      "Accuracy: 0.8187\n",
      "F1-Score: 0.0000\n",
      "ROC-AUC Score: 0.5000\n"
     ]
    }
   ],
   "source": [
    "# Create a Dummy Classifier (always predicts the majority class)\n",
    "dummy_clf = DummyClassifier(strategy=\"most_frequent\")\n",
    "dummy_clf.fit(X_train, y_train)\n",
    "\n",
    "# Make predictions\n",
    "y_dummy_pred = dummy_clf.predict(X_test)\n",
    "\n",
    "# Evaluate performance\n",
    "dummy_accuracy = accuracy_score(y_test, y_dummy_pred)\n",
    "dummy_f1 = f1_score(y_test, y_dummy_pred, zero_division=1)  # Avoid division errors\n",
    "dummy_roc_auc = roc_auc_score(y_test, y_dummy_pred)\n",
    "\n",
    "# Print Results\n",
    "print(\"Dummy Classifier Performance (Majority Class Strategy):\")\n",
    "print(f\"Accuracy: {dummy_accuracy:.4f}\")\n",
    "print(f\"F1-Score: {dummy_f1:.4f}\")\n",
    "print(f\"ROC-AUC Score: {dummy_roc_auc:.4f}\")"
   ]
  },
  {
   "cell_type": "code",
   "execution_count": 28,
   "metadata": {},
   "outputs": [
    {
     "name": "stdout",
     "output_type": "stream",
     "text": [
      "Accuracy of naive classifier that always guesses low_bike_demand: 0.82\n"
     ]
    }
   ],
   "source": [
    "negative_count = data['increase_stock'].value_counts()[0]\n",
    "total_count = len(data)\n",
    "accuracy = negative_count/total_count\n",
    "print(f'Accuracy of naive classifier that always guesses low_bike_demand: {accuracy}')"
   ]
  }
 ],
 "metadata": {
  "kernelspec": {
   "display_name": "base",
   "language": "python",
   "name": "python3"
  },
  "language_info": {
   "codemirror_mode": {
    "name": "ipython",
    "version": 3
   },
   "file_extension": ".py",
   "mimetype": "text/x-python",
   "name": "python",
   "nbconvert_exporter": "python",
   "pygments_lexer": "ipython3",
   "version": "3.12.4"
  }
 },
 "nbformat": 4,
 "nbformat_minor": 2
}
